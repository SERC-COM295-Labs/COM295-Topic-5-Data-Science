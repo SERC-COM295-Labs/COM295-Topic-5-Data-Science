{
 "cells": [
  {
   "cell_type": "markdown",
   "metadata": {},
   "source": [
    "# Exercise 2 - Linear Regression\n",
    "\n",
    "## Introduction\n",
    "\n",
    "In this exercise, you will be working with the Iris dataset. The Iris dataset consists of 150 samples of iris flowers. Each sample contains four features (sepal length, sepal width, petal length, and petal width) and the species of the flower.\n",
    "\n",
    "Sample code has been provided that generates random data. Modify the sample code to load the Iris dataset and perform linear regression on the Iris dataset."
   ]
  },
  {
   "cell_type": "code",
   "execution_count": null,
   "metadata": {},
   "outputs": [],
   "source": [
    "import numpy as np\n",
    "import matplotlib.pyplot as plt\n",
    "from sklearn.linear_model import LinearRegression\n",
    "\n",
    "# Generate synthetic data\n",
    "np.random.seed(0)\n",
    "x = np.random.rand(100, 1) * 100  # 100 random numbers scaled by 100\n",
    "noise = np.random.randn(100, 1) * 10  # noise added to y\n",
    "y = 3 * x + 4 + noise  # linear relationship with some noise\n",
    "\n",
    "# Visualize the data\n",
    "plt.scatter(x, y, color='blue')\n",
    "plt.title('Generated Data')\n",
    "plt.xlabel('Independent Variable x')\n",
    "plt.ylabel('Dependent Variable y')\n",
    "plt.show()\n",
    "\n",
    "# Create and train the model\n",
    "model = LinearRegression()\n",
    "model.fit(x, y)\n",
    "\n",
    "# Display the coefficients\n",
    "print(f\"Slope (Coefficient): {model.coef_[0][0]}\")\n",
    "print(f\"Intercept: {model.intercept_[0]}\")\n",
    "\n",
    "# Predict and plot the regression line\n",
    "x_line = np.linspace(min(x), max(x), 100).reshape(-1, 1)\n",
    "y_line = model.predict(x_line)\n",
    "plt.scatter(x, y, color='blue')\n",
    "plt.plot(x_line, y_line, color='red', linewidth=2)\n",
    "plt.title('Linear Regression Fit')\n",
    "plt.xlabel('Independent Variable x')\n",
    "plt.ylabel('Dependent Variable y')\n",
    "plt.show()\n"
   ]
  }
 ],
 "metadata": {
  "kernelspec": {
   "display_name": "Python 3 (ipykernel)",
   "language": "python",
   "name": "python3"
  }
 },
 "nbformat": 4,
 "nbformat_minor": 2
}
