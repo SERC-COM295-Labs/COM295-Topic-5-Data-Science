{
 "cells": [
  {
   "cell_type": "markdown",
   "metadata": {},
   "source": [
    "# Exercise 1 - Data Visualisation\n",
    "\n",
    "## Introduction\n",
    "\n",
    "In this exercise, you will be working with the Iris dataset. The Iris dataset consists of 150 samples of iris flowers. Each sample contains four features (sepal length, sepal width, petal length, and petal width) and the species of the flower.\n",
    "\n",
    "Starting code that loads the dataset and displays the first few rows is provided. You will need to complete the tasks below."
   ]
  },
  {
   "cell_type": "code",
   "execution_count": null,
   "metadata": {},
   "outputs": [],
   "source": [
    "import pandas as pd\n",
    "import seaborn as sns\n",
    "import matplotlib.pyplot as plt\n",
    "\n",
    "# Load the dataset\n",
    "iris = sns.load_dataset('iris')\n",
    "\n",
    "# Display basic statistics\n",
    "print(iris.describe())\n",
    "\n",
    "# Setup for visualizations (You will fill in this part with the specific plots)\n",
    "\n",
    "# Show plots\n",
    "plt.show()\n"
   ]
  },
  {
   "cell_type": "code",
   "execution_count": null,
   "metadata": {},
   "outputs": [],
   "source": [
    "# plot historgam for each feature\n",
    "# sepal_length\n",
    "sns.histplot(iris['sepal_length'], kde=True)\n",
    "plt.show()\n",
    "\n",
    "# sepal_width\n",
    "\n",
    "\n",
    "# petal_length\n",
    "\n",
    "\n",
    "# petal_width\n"
   ]
  },
  {
   "cell_type": "code",
   "execution_count": null,
   "metadata": {},
   "outputs": [],
   "source": [
    "# create boxplot for each measurement grouped by the spieces of the iris\n",
    "\n",
    "# sepal_length\n",
    "sns.boxplot(x='species', y='sepal_length', data=iris)\n",
    "plt.show()\n",
    "\n",
    "# sepal_width\n",
    "\n",
    "\n",
    "# petal_length\n",
    "\n",
    "\n",
    "# petal_width\n"
   ]
  },
  {
   "cell_type": "code",
   "execution_count": null,
   "metadata": {},
   "outputs": [],
   "source": [
    "# scatter plot of sepal length vs sepal width\n",
    "sns.scatterplot(x='sepal_length', y='sepal_width', data=iris)\n",
    "plt.show()\n",
    "\n",
    "# scatter plot of petal length vs petal width\n"
   ]
  },
  {
   "cell_type": "code",
   "execution_count": null,
   "metadata": {},
   "outputs": [],
   "source": [
    "# Pair Plot to visualize overall relationships"
   ]
  },
  {
   "cell_type": "code",
   "execution_count": null,
   "metadata": {},
   "outputs": [],
   "source": [
    "# Correlation Heatmap"
   ]
  }
 ],
 "metadata": {
  "kernelspec": {
   "display_name": "Python 3 (ipykernel)",
   "language": "python",
   "name": "python3"
  }
 },
 "nbformat": 4,
 "nbformat_minor": 2
}
